{
 "cells": [
  {
   "cell_type": "code",
   "execution_count": 1,
   "id": "14d837de-513e-4350-ab5d-f9953be6b6f2",
   "metadata": {},
   "outputs": [
    {
     "name": "stderr",
     "output_type": "stream",
     "text": [
      "[nltk_data] Downloading package punkt to /home/student/nltk_data...\n",
      "[nltk_data]   Package punkt is already up-to-date!\n",
      "[nltk_data] Downloading package wordnet to /home/student/nltk_data...\n",
      "[nltk_data]   Package wordnet is already up-to-date!\n",
      "[nltk_data] Downloading package averaged_perceptron_tagger to\n",
      "[nltk_data]     /home/student/nltk_data...\n",
      "[nltk_data]   Package averaged_perceptron_tagger is already up-to-\n",
      "[nltk_data]       date!\n",
      "[nltk_data] Downloading package stopwords to\n",
      "[nltk_data]     /home/student/nltk_data...\n",
      "[nltk_data]   Package stopwords is already up-to-date!\n"
     ]
    }
   ],
   "source": [
    "import nltk\n",
    "nltk.download('punkt')\n",
    "nltk.download('wordnet')\n",
    "nltk.download('averaged_perceptron_tagger')\n",
    "nltk.download('stopwords')\n",
    "from nltk import sent_tokenize\n",
    "from nltk import word_tokenize\n",
    "from nltk.corpus import stopwords\n"
   ]
  },
  {
   "cell_type": "code",
   "execution_count": 54,
   "id": "926bca9a-9b20-4b97-8f20-287d5b203446",
   "metadata": {},
   "outputs": [],
   "source": [
    "text = \"Try not to become a man of success, but rather try to become a man of value programming language.\""
   ]
  },
  {
   "cell_type": "code",
   "execution_count": 56,
   "id": "5ef19a11-a4f9-426c-807b-adad7766a533",
   "metadata": {},
   "outputs": [
    {
     "name": "stdout",
     "output_type": "stream",
     "text": [
      "['Try', 'not', 'to', 'become', 'a', 'man', 'of', 'success,', 'but', 'rather', 'try', 'to', 'become', 'a', 'man', 'of', 'value', 'programming', 'language.']\n"
     ]
    }
   ],
   "source": [
    "words = text.split(\" \")\n",
    "print(words)"
   ]
  },
  {
   "cell_type": "code",
   "execution_count": 58,
   "id": "2ccb6e81-22e4-4c5f-83c5-df847d09e74e",
   "metadata": {},
   "outputs": [],
   "source": [
    "from nltk.stem import PorterStemmer\n",
    "from nltk.stem.snowball import SnowballStemmer\n",
    "from nltk.stem import LancasterStemmer"
   ]
  },
  {
   "cell_type": "code",
   "execution_count": 60,
   "id": "fa7aa1be-ff80-4a53-9478-cad2c65667de",
   "metadata": {},
   "outputs": [],
   "source": [
    "stem = []\n",
    "for i in words:\n",
    "    ps = PorterStemmer()\n",
    "    stem_word = ps.stem(i)\n",
    "    stem.append(stem_word)"
   ]
  },
  {
   "cell_type": "code",
   "execution_count": 62,
   "id": "16eff21b-679a-4ad2-9b3a-79b9e7926ee4",
   "metadata": {},
   "outputs": [
    {
     "name": "stdout",
     "output_type": "stream",
     "text": [
      "['tri', 'not', 'to', 'becom', 'a', 'man', 'of', 'success,', 'but', 'rather', 'tri', 'to', 'becom', 'a', 'man', 'of', 'valu', 'program', 'language.']\n"
     ]
    }
   ],
   "source": [
    "print(stem)"
   ]
  },
  {
   "cell_type": "code",
   "execution_count": 64,
   "id": "cec25090-6836-4148-9e42-2c97126b8d68",
   "metadata": {},
   "outputs": [],
   "source": [
    "from nltk.stem import WordNetLemmatizer\n",
    "lemmatizer = WordNetLemmatizer()"
   ]
  },
  {
   "cell_type": "code",
   "execution_count": 66,
   "id": "fd2f1187-56b3-4560-ad68-0291f2a70eaf",
   "metadata": {},
   "outputs": [
    {
     "name": "stdout",
     "output_type": "stream",
     "text": [
      "tri not to becom a man of success, but rather tri to becom a man of valu program language.\n"
     ]
    }
   ],
   "source": [
    "lemmatized_output = ' '.join([lemmatizer.lemmatize(w) for w in stem])\n",
    "print(lemmatized_output)\n"
   ]
  },
  {
   "cell_type": "code",
   "execution_count": 68,
   "id": "5db68e88-2957-43ce-b471-51d53d41210a",
   "metadata": {},
   "outputs": [
    {
     "name": "stdout",
     "output_type": "stream",
     "text": [
      "['tri', 'not', 'to', 'becom', 'a', 'man', 'of', 'success,', 'but', 'rather', 'tri', 'to', 'becom', 'a', 'man', 'of', 'valu', 'program', 'language.']\n"
     ]
    }
   ],
   "source": [
    "leme=[]\n",
    "for i in stem:\n",
    "  lemetized_word=lemmatizer.lemmatize(i)\n",
    "  leme.append(lemetized_word)\n",
    "print(leme)"
   ]
  },
  {
   "cell_type": "code",
   "execution_count": 70,
   "id": "a8c72b83-4a1d-4a4d-8abf-e18a741e62b1",
   "metadata": {},
   "outputs": [
    {
     "name": "stdout",
     "output_type": "stream",
     "text": [
      "Parts of the speech:  [('tri', 'NN'), ('not', 'RB'), ('to', 'TO'), ('becom', 'VB'), ('a', 'DT'), ('man', 'NN'), ('of', 'IN'), ('success,', 'NN'), ('but', 'CC'), ('rather', 'RB'), ('tri', 'NN'), ('to', 'TO'), ('becom', 'VB'), ('a', 'DT'), ('man', 'NN'), ('of', 'IN'), ('valu', 'JJ'), ('program', 'NN'), ('language.', 'NN')]\n"
     ]
    }
   ],
   "source": [
    "print(\"Parts of the speech: \", nltk.pos_tag(leme))"
   ]
  },
  {
   "cell_type": "code",
   "execution_count": 72,
   "id": "386de050-3414-4c58-bc4e-7987cdab9260",
   "metadata": {},
   "outputs": [
    {
     "name": "stdout",
     "output_type": "stream",
     "text": [
      "['a', 'about', 'above', 'after', 'again', 'against', 'ain', 'all', 'am', 'an', 'and', 'any', 'are', 'aren', \"aren't\", 'as', 'at', 'be', 'because', 'been', 'before', 'being', 'below', 'between', 'both', 'but', 'by', 'can', 'couldn', \"couldn't\", 'd', 'did', 'didn', \"didn't\", 'do', 'does', 'doesn', \"doesn't\", 'doing', 'don', \"don't\", 'down', 'during', 'each', 'few', 'for', 'from', 'further', 'had', 'hadn', \"hadn't\", 'has', 'hasn', \"hasn't\", 'have', 'haven', \"haven't\", 'having', 'he', \"he'd\", \"he'll\", 'her', 'here', 'hers', 'herself', \"he's\", 'him', 'himself', 'his', 'how', 'i', \"i'd\", 'if', \"i'll\", \"i'm\", 'in', 'into', 'is', 'isn', \"isn't\", 'it', \"it'd\", \"it'll\", \"it's\", 'its', 'itself', \"i've\", 'just', 'll', 'm', 'ma', 'me', 'mightn', \"mightn't\", 'more', 'most', 'mustn', \"mustn't\", 'my', 'myself', 'needn', \"needn't\", 'no', 'nor', 'not', 'now', 'o', 'of', 'off', 'on', 'once', 'only', 'or', 'other', 'our', 'ours', 'ourselves', 'out', 'over', 'own', 're', 's', 'same', 'shan', \"shan't\", 'she', \"she'd\", \"she'll\", \"she's\", 'should', 'shouldn', \"shouldn't\", \"should've\", 'so', 'some', 'such', 't', 'than', 'that', \"that'll\", 'the', 'their', 'theirs', 'them', 'themselves', 'then', 'there', 'these', 'they', \"they'd\", \"they'll\", \"they're\", \"they've\", 'this', 'those', 'through', 'to', 'too', 'under', 'until', 'up', 've', 'very', 'was', 'wasn', \"wasn't\", 'we', \"we'd\", \"we'll\", \"we're\", 'were', 'weren', \"weren't\", \"we've\", 'what', 'when', 'where', 'which', 'while', 'who', 'whom', 'why', 'will', 'with', 'won', \"won't\", 'wouldn', \"wouldn't\", 'y', 'you', \"you'd\", \"you'll\", 'your', \"you're\", 'yours', 'yourself', 'yourselves', \"you've\"]\n"
     ]
    }
   ],
   "source": [
    "sw_nltk = stopwords.words('english')\n",
    "print(sw_nltk)"
   ]
  },
  {
   "cell_type": "code",
   "execution_count": 74,
   "id": "7f9f2e7b-4592-4587-9c39-62a3ea5d48a1",
   "metadata": {},
   "outputs": [
    {
     "name": "stdout",
     "output_type": "stream",
     "text": [
      "Try become man success, rather try become man value programming language.\n"
     ]
    }
   ],
   "source": [
    "words = [word for word in text.split() if word.lower() not in sw_nltk]\n",
    "new_text = \" \".join(words)\n",
    "print(new_text)"
   ]
  }
 ],
 "metadata": {
  "kernelspec": {
   "display_name": "Python 3 (ipykernel)",
   "language": "python",
   "name": "python3"
  },
  "language_info": {
   "codemirror_mode": {
    "name": "ipython",
    "version": 3
   },
   "file_extension": ".py",
   "mimetype": "text/x-python",
   "name": "python",
   "nbconvert_exporter": "python",
   "pygments_lexer": "ipython3",
   "version": "3.11.7"
  }
 },
 "nbformat": 4,
 "nbformat_minor": 5
}
